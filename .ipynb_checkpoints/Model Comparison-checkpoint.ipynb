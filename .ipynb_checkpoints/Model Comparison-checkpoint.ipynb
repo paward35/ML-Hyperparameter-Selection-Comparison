{
 "cells": [
  {
   "cell_type": "code",
   "execution_count": 1,
   "metadata": {},
   "outputs": [],
   "source": [
    "from IPython.display import IFrame"
   ]
  },
  {
   "cell_type": "code",
   "execution_count": 2,
   "metadata": {},
   "outputs": [],
   "source": [
    "# import dataset load_iris function from datasets module\n",
    "from sklearn.datasets import load_iris\n",
    "# import Logistic Regression and instantiate from sklearn\n",
    "from sklearn.linear_model import LogisticRegression\n",
    "\n",
    "from sklearn import metrics, linear_model\n",
    "from scipy.stats import uniform\n",
    "from sklearn.model_selection import RandomizedSearchCV, GridSearchCV"
   ]
  },
  {
   "cell_type": "code",
   "execution_count": 8,
   "metadata": {},
   "outputs": [],
   "source": [
    "#Logisitic regression "
   ]
  },
  {
   "cell_type": "code",
   "execution_count": 3,
   "metadata": {},
   "outputs": [
    {
     "name": "stdout",
     "output_type": "stream",
     "text": [
      "Done\n"
     ]
    }
   ],
   "source": [
    "# read iris data \n",
    "from sklearn.datasets import load_iris\n",
    "iris = load_iris()\n",
    "\n",
    "from sklearn.datasets.california_housing import fetch_california_housing\n",
    "cal_housing = fetch_california_housing()\n",
    "\n",
    "from sklearn.datasets import load_digits\n",
    "digits = load_digits()\n",
    "\n",
    "from sklearn.datasets import load_wine\n",
    "wine = load_wine()\n",
    "\n",
    "from sklearn.datasets import load_breast_cancer\n",
    "cancer = load_breast_cancer()\n",
    "\n",
    "def learnAndPrintResultsLogsitic(dataSet):\n",
    "    X = dataSet.data\n",
    "    y = dataSet.target\n",
    "    logreg = LogisticRegression(multi_class='ovr', solver='liblinear')\n",
    "\n",
    "    # Learn the model \n",
    "    logreg.fit(X, y)\n",
    "\n",
    "    # Make predictions \n",
    "    logreg.predict(X)\n",
    "    \n",
    "    y_pred = logreg.predict(X)\n",
    "    \n",
    "    # compute how accuretly the model classified data \n",
    "    print(metrics.accuracy_score(y_pred, y))\n",
    "    \n",
    "    \n",
    "    penalty = ['l1', 'l2']\n",
    "\n",
    "\n",
    "    C = uniform(loc=0, scale=4)\n",
    "\n",
    "    Csearch = range(1, 100, 1)\n",
    "\n",
    "\n",
    "    hyperparameters = dict(C=C, penalty=penalty)\n",
    "    \n",
    "    searchHyperParams = dict(C=Csearch, penalty=penalty)\n",
    "    \n",
    "    searchParams = GridSearchCV(logreg, searchHyperParams, cv=5, verbose=1)\n",
    "    \n",
    "    randParams = RandomizedSearchCV(logreg, hyperparameters, random_state=1, n_iter=10000, verbose=0, n_jobs=-1)\n",
    "    \n",
    "    best_model_Search = searchParams.fit(X,y)\n",
    "    print(best_model_Search)\n",
    "    \n",
    "    best_model_rand = randParams.fit(X, y)\n",
    "    randP = best_model_rand.predict(X)\n",
    "    gridP = best_model_Search.predict(X)\n",
    "    \n",
    "    print('Best Penalty w/ random search:', best_model_rand.best_estimator_.get_params()['penalty'])\n",
    "    print('Best C w/ random search:', best_model_rand.best_estimator_.get_params()['C'])\n",
    "\n",
    "    print('Best Penalty w/ grid search:', best_model_Search.best_estimator_.get_params()['penalty'])\n",
    "    print('Best C w/ grid search:', best_model_Search.best_estimator_.get_params()['C'])\n",
    "    \n",
    "    print(\"Vanilla error = \", metrics.mean_absolute_error(y_pred, y))\n",
    "    print(\"Random search error = \", metrics.mean_absolute_error(randP, y))\n",
    "    print(\"Grid Search error =\", metrics.mean_absolute_error(gridP, y))\n",
    "    return\n",
    "\n",
    "print(\"Done\")"
   ]
  },
  {
   "cell_type": "code",
   "execution_count": 20,
   "metadata": {},
   "outputs": [
    {
     "name": "stdout",
     "output_type": "stream",
     "text": [
      "0.96\n",
      "Fitting 5 folds for each of 198 candidates, totalling 990 fits\n"
     ]
    },
    {
     "name": "stderr",
     "output_type": "stream",
     "text": [
      "[Parallel(n_jobs=1)]: Using backend SequentialBackend with 1 concurrent workers.\n",
      "[Parallel(n_jobs=1)]: Done 990 out of 990 | elapsed:    7.9s finished\n",
      "/home/eoin/.local/lib/python2.7/site-packages/sklearn/model_selection/_split.py:1943: FutureWarning: You should specify a value for 'cv' instead of relying on the default value. The default value will change from 3 to 5 in version 0.22.\n",
      "  warnings.warn(CV_WARNING, FutureWarning)\n"
     ]
    },
    {
     "name": "stdout",
     "output_type": "stream",
     "text": [
      "GridSearchCV(cv=5, error_score='raise-deprecating',\n",
      "       estimator=LogisticRegression(C=1.0, class_weight=None, dual=False, fit_intercept=True,\n",
      "          intercept_scaling=1, max_iter=100, multi_class='ovr',\n",
      "          n_jobs=None, penalty='l2', random_state=None, solver='liblinear',\n",
      "          tol=0.0001, verbose=0, warm_start=False),\n",
      "       fit_params=None, iid='warn', n_jobs=None,\n",
      "       param_grid={'penalty': ['l1', 'l2'], 'C': [1, 2, 3, 4, 5, 6, 7, 8, 9, 10, 11, 12, 13, 14, 15, 16, 17, 18, 19, 20, 21, 22, 23, 24, 25, 26, 27, 28, 29, 30, 31, 32, 33, 34, 35, 36, 37, 38, 39, 40, 41, 42, 43, 44, 45, 46, 47, 48, 49, 50, 51, 52, 53, 54, 55, 56, 57, 58, 59, 60, 61, 62, 63, 64, 65, 66, 67, 68, 69, 70, 71, 72, 73, 74, 75, 76, 77, 78, 79, 80, 81, 82, 83, 84, 85, 86, 87, 88, 89, 90, 91, 92, 93, 94, 95, 96, 97, 98, 99]},\n",
      "       pre_dispatch='2*n_jobs', refit=True, return_train_score='warn',\n",
      "       scoring=None, verbose=1)\n",
      "('Best Penalty w/ random search:', 'l2')\n",
      "('Best C w/ random search:', 3.730229437354635)\n",
      "('Best Penalty w/ grid search:', 'l1')\n",
      "('Best C w/ grid search:', 6)\n",
      "('Vanilla error = ', 0.04)\n",
      "('Random search error = ', 0.04)\n",
      "('Grid Search error =', 0.02)\n"
     ]
    },
    {
     "name": "stderr",
     "output_type": "stream",
     "text": [
      "/home/eoin/.local/lib/python2.7/site-packages/sklearn/model_selection/_search.py:841: DeprecationWarning: The default of the `iid` parameter will change from True to False in version 0.22 and will be removed in 0.24. This will change numeric results when test-set sizes are unequal.\n",
      "  DeprecationWarning)\n"
     ]
    }
   ],
   "source": [
    "# create X label for features and y label for response\n",
    "learnAndPrintResultsLogsitic(iris)"
   ]
  },
  {
   "cell_type": "code",
   "execution_count": 6,
   "metadata": {},
   "outputs": [
    {
     "name": "stdout",
     "output_type": "stream",
     "text": [
      "0.993322203672788\n",
      "Fitting 5 folds for each of 198 candidates, totalling 990 fits\n"
     ]
    },
    {
     "name": "stderr",
     "output_type": "stream",
     "text": [
      "[Parallel(n_jobs=1)]: Using backend SequentialBackend with 1 concurrent workers.\n",
      "[Parallel(n_jobs=1)]: Done 990 out of 990 | elapsed: 13.7min finished\n",
      "/home/eoin/.local/lib/python2.7/site-packages/sklearn/model_selection/_split.py:1943: FutureWarning: You should specify a value for 'cv' instead of relying on the default value. The default value will change from 3 to 5 in version 0.22.\n",
      "  warnings.warn(CV_WARNING, FutureWarning)\n"
     ]
    },
    {
     "name": "stdout",
     "output_type": "stream",
     "text": [
      "('Best Penalty w/ random search:', 'l1')\n",
      "('Best C w/ random search:', 0.19027824131388593)\n",
      "('Best Penalty w/ grid search:', 'l1')\n",
      "('Best C w/ grid search:', 1)\n",
      "('Vanilla error = ', 0.035614913745130775)\n",
      "('Random search error = ', 0.07512520868113523)\n",
      "('Grid Search error =', 0.028937117417918753)\n"
     ]
    }
   ],
   "source": [
    "# create X label for features and y label for response\n",
    "learnAndPrintResultsLogsitic(digits)"
   ]
  },
  {
   "cell_type": "code",
   "execution_count": null,
   "metadata": {},
   "outputs": [
    {
     "name": "stdout",
     "output_type": "stream",
     "text": [
      "0.9719101123595506\n",
      "Fitting 5 folds for each of 198 candidates, totalling 990 fits\n"
     ]
    },
    {
     "name": "stderr",
     "output_type": "stream",
     "text": [
      "[Parallel(n_jobs=1)]: Using backend SequentialBackend with 1 concurrent workers.\n",
      "[Parallel(n_jobs=1)]: Done 990 out of 990 | elapsed:   59.9s finished\n",
      "/home/eoin/.local/lib/python2.7/site-packages/sklearn/model_selection/_search.py:841: DeprecationWarning: The default of the `iid` parameter will change from True to False in version 0.22 and will be removed in 0.24. This will change numeric results when test-set sizes are unequal.\n",
      "  DeprecationWarning)\n"
     ]
    }
   ],
   "source": [
    "# create X label for features and y label for response\n",
    "learnAndPrintResultsLogsitic(wine)"
   ]
  },
  {
   "cell_type": "code",
   "execution_count": null,
   "metadata": {},
   "outputs": [],
   "source": [
    "# create X label for features and y label for response\n",
    "learnAndPrintResultsLogsitic(cancer)"
   ]
  },
  {
   "cell_type": "code",
   "execution_count": null,
   "metadata": {},
   "outputs": [],
   "source": [
    "#K-Nearest Neighbour"
   ]
  },
  {
   "cell_type": "code",
   "execution_count": 8,
   "metadata": {},
   "outputs": [],
   "source": [
    "#import K neightbour form sklean and instantiate from sklearn\n",
    "from sklearn.neighbors import KNeighborsClassifier\n",
    "\n",
    "def learnAndPrintResultsKnn( dataSet ):\n",
    "    knn = KNeighborsClassifier(n_neighbors=5)\n",
    "    X = dataSet.data\n",
    "    y = dataSet.target\n",
    "    #Run Knn\n",
    "    knn.fit(X, y)\n",
    "\n",
    "    #Check preditions accuracy\n",
    "    y_pred = knn.predict(X)\n",
    "    print(metrics.accuracy_score(y, y_pred))\n",
    "\n"
   ]
  },
  {
   "cell_type": "code",
   "execution_count": 9,
   "metadata": {},
   "outputs": [
    {
     "name": "stdout",
     "output_type": "stream",
     "text": [
      "0.9666666666666667\n"
     ]
    }
   ],
   "source": [
    "learnAndPrintResultsKnn(iris)"
   ]
  },
  {
   "cell_type": "code",
   "execution_count": null,
   "metadata": {},
   "outputs": [],
   "source": [
    "learnAndPrintResultsKnn(digits)"
   ]
  },
  {
   "cell_type": "code",
   "execution_count": null,
   "metadata": {},
   "outputs": [],
   "source": [
    "learnAndPrintResultsKnn(wine)"
   ]
  },
  {
   "cell_type": "code",
   "execution_count": null,
   "metadata": {},
   "outputs": [],
   "source": [
    "learnAndPrintResultsKnn(cancer)"
   ]
  },
  {
   "cell_type": "code",
   "execution_count": 4,
   "metadata": {},
   "outputs": [],
   "source": [
    "#linear regression\n",
    "from sklearn.linear_model import LinearRegression\n",
    "import time\n",
    "from sklearn.model_selection import train_test_split, cross_val_score, cross_val_predict\n",
    "import numpy as np\n",
    "def learnAndPrintResultsLinReg(dataSet):\n",
    "    X = dataSet.data\n",
    "    y = dataSet.target\n",
    "    X_train, X_test, y_train, y_test = train_test_split(X, y, random_state=1)\n",
    "  \n",
    "    linreg = LinearRegression()\n",
    "    penalty = ['l1', 'l2']\n",
    "    parameters = {'fit_intercept':[True, False], 'normalize':[True, False], 'copy_X':[True,False], }\n",
    "    #C = uniform(loc=0, scale=4)\n",
    "    #Csearch = range(1, 300, 1)\n",
    "    searchParams = GridSearchCV(linreg, parameters, cv=5, verbose=1)\n",
    "    randParams = RandomizedSearchCV(linreg, parameters, random_state=1, n_iter=5000, verbose=0, n_jobs=-1)\n",
    "    start = time.time()\n",
    "    best_model_Search = searchParams.fit(X_train,y_train)\n",
    "    end = time.time()\n",
    "    start1 = time.time()\n",
    "    best_model_rand = randParams.fit(X_train, y_train)\n",
    "    end1 = time.time()\n",
    "    #print(end-start)\n",
    "    #print(end1-start1)\n",
    "    linreg.fit(X_train, y_train)\n",
    "    ypred = best_model_Search.predict(X_test)\n",
    "    ypred1 = best_model_rand.predict(X_test)\n",
    "    print(metrics.mean_absolute_error(y_test,ypred))\n",
    "    absoluteErr = metrics.mean_absolute_error(y_test, ypred1)\n",
    "    print(absoluteErr)\n"
   ]
  },
  {
   "cell_type": "code",
   "execution_count": 6,
   "metadata": {},
   "outputs": [
    {
     "name": "stdout",
     "output_type": "stream",
     "text": [
      "Fitting 5 folds for each of 8 candidates, totalling 40 fits\n"
     ]
    },
    {
     "name": "stderr",
     "output_type": "stream",
     "text": [
      "[Parallel(n_jobs=1)]: Using backend SequentialBackend with 1 concurrent workers.\n",
      "[Parallel(n_jobs=1)]: Done  40 out of  40 | elapsed:    0.4s finished\n",
      "/home/eoin/.local/lib/python2.7/site-packages/sklearn/model_selection/_split.py:1943: FutureWarning: You should specify a value for 'cv' instead of relying on the default value. The default value will change from 3 to 5 in version 0.22.\n",
      "  warnings.warn(CV_WARNING, FutureWarning)\n",
      "/home/eoin/.local/lib/python2.7/site-packages/sklearn/model_selection/_search.py:271: UserWarning: The total space of parameters 8 is smaller than n_iter=5000. Running 8 iterations. For exhaustive searches, use GridSearchCV.\n",
      "  % (grid_size, self.n_iter, grid_size), UserWarning)\n"
     ]
    },
    {
     "name": "stdout",
     "output_type": "stream",
     "text": [
      "0.5351008445282912\n",
      "0.5351008445282905\n"
     ]
    }
   ],
   "source": [
    "learnAndPrintResultsLinReg(cal_housing)"
   ]
  },
  {
   "cell_type": "code",
   "execution_count": 49,
   "metadata": {},
   "outputs": [
    {
     "name": "stdout",
     "output_type": "stream",
     "text": [
      "Fitting 5 folds for each of 8 candidates, totalling 40 fits\n"
     ]
    },
    {
     "name": "stderr",
     "output_type": "stream",
     "text": [
      "[Parallel(n_jobs=1)]: Using backend SequentialBackend with 1 concurrent workers.\n",
      "[Parallel(n_jobs=1)]: Done  40 out of  40 | elapsed:    2.2s finished\n",
      "/home/eoin/.local/lib/python2.7/site-packages/sklearn/model_selection/_search.py:841: DeprecationWarning: The default of the `iid` parameter will change from True to False in version 0.22 and will be removed in 0.24. This will change numeric results when test-set sizes are unequal.\n",
      "  DeprecationWarning)\n"
     ]
    },
    {
     "name": "stdout",
     "output_type": "stream",
     "text": [
      "1.3934798756932625\n",
      "1.3934798756932625\n"
     ]
    }
   ],
   "source": [
    "learnAndPrintResultsLinReg(digits)"
   ]
  },
  {
   "cell_type": "code",
   "execution_count": 50,
   "metadata": {},
   "outputs": [
    {
     "name": "stdout",
     "output_type": "stream",
     "text": [
      "Fitting 5 folds for each of 8 candidates, totalling 40 fits\n"
     ]
    },
    {
     "name": "stderr",
     "output_type": "stream",
     "text": [
      "[Parallel(n_jobs=1)]: Using backend SequentialBackend with 1 concurrent workers.\n",
      "[Parallel(n_jobs=1)]: Done  40 out of  40 | elapsed:    0.4s finished\n",
      "/home/eoin/.local/lib/python2.7/site-packages/sklearn/model_selection/_search.py:841: DeprecationWarning: The default of the `iid` parameter will change from True to False in version 0.22 and will be removed in 0.24. This will change numeric results when test-set sizes are unequal.\n",
      "  DeprecationWarning)\n"
     ]
    },
    {
     "name": "stdout",
     "output_type": "stream",
     "text": [
      "0.21364699583549998\n",
      "0.21364699583550043\n"
     ]
    }
   ],
   "source": [
    "learnAndPrintResultsLinReg(wine)"
   ]
  },
  {
   "cell_type": "code",
   "execution_count": 51,
   "metadata": {},
   "outputs": [
    {
     "name": "stdout",
     "output_type": "stream",
     "text": [
      "Fitting 5 folds for each of 8 candidates, totalling 40 fits\n"
     ]
    },
    {
     "name": "stderr",
     "output_type": "stream",
     "text": [
      "[Parallel(n_jobs=1)]: Using backend SequentialBackend with 1 concurrent workers.\n",
      "[Parallel(n_jobs=1)]: Done  40 out of  40 | elapsed:    0.5s finished\n"
     ]
    },
    {
     "name": "stdout",
     "output_type": "stream",
     "text": [
      "0.19706349265997705\n",
      "0.19706349265997675\n"
     ]
    }
   ],
   "source": [
    "learnAndPrintResultsLinReg(cancer)"
   ]
  },
  {
   "cell_type": "code",
   "execution_count": null,
   "metadata": {},
   "outputs": [],
   "source": []
  },
  {
   "cell_type": "code",
   "execution_count": null,
   "metadata": {},
   "outputs": [],
   "source": []
  }
 ],
 "metadata": {
  "kernelspec": {
   "display_name": "Python 3",
   "language": "python",
   "name": "python3"
  },
  "language_info": {
   "codemirror_mode": {
    "name": "ipython",
    "version": 3
   },
   "file_extension": ".py",
   "mimetype": "text/x-python",
   "name": "python",
   "nbconvert_exporter": "python",
   "pygments_lexer": "ipython3",
   "version": "3.5.2"
  },
  "widgets": {
   "state": {},
   "version": "1.1.2"
  }
 },
 "nbformat": 4,
 "nbformat_minor": 2
}
