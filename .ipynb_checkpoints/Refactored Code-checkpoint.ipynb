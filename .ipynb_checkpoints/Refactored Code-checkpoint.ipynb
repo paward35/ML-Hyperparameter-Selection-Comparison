{
 "cells": [
  {
   "cell_type": "code",
   "execution_count": 1,
   "metadata": {},
   "outputs": [
    {
     "name": "stderr",
     "output_type": "stream",
     "text": [
      "Downloading Cal. housing from https://ndownloader.figshare.com/files/5976036 to /Users/patrickward/scikit_learn_data\n"
     ]
    }
   ],
   "source": [
    "# import data \n",
    "from sklearn.datasets import load_iris\n",
    "from sklearn.datasets.california_housing import fetch_california_housing\n",
    "from sklearn.datasets import load_digits\n",
    "from sklearn.datasets import load_breast_cancer\n",
    "from sklearn.datasets import load_wine\n",
    "\n",
    "# Load data \n",
    "digits = load_digits()\n",
    "wine = load_wine()\n",
    "iris = load_iris()\n",
    "cancer = load_breast_cancer()\n",
    "cal_housing = fetch_california_housing()"
   ]
  },
  {
   "cell_type": "code",
   "execution_count": 4,
   "metadata": {},
   "outputs": [],
   "source": [
    "\n",
    "#Hyper Paramater Selection for logistic regression using grid Search \n",
    "def get_best_paramaters_grid_search_logisitic_regression(training_features, training_target):\n",
    "    #Hyperparamter Grid \n",
    "    param_grid = [{\n",
    "        'C': [  0.01 , 0.1 , 1, 10],\n",
    "        'class_weight': ['balanced', None],\n",
    "        'penalty': ['l2'],\n",
    "        'solver': ['lbfgs'],\n",
    "        'max_iter': [1000]\n",
    "    }\n",
    "        , \n",
    "        {\n",
    "        'C': [ 0.01 , 0.1 , 1, 10 ],\n",
    "        'class_weight': ['balanced', None],\n",
    "        'penalty': ['l1'],\n",
    "        'solver': ['liblinear'],\n",
    "        'max_iter': [1000]\n",
    "    }]\n",
    "\n",
    "    regressor = LogisticRegression()\n",
    "    \n",
    "    #Find best Paramaters \n",
    "    grid_search = GridSearchCV(estimator=regressor, param_grid=param_grid, cv=10)\n",
    "    #Fit to best Paramaters \n",
    "    grid_search = grid_search.fit(training_features, training_target)\n",
    "    return grid_search\n",
    "\n",
    "#Hyper Paramater Selection for logistic regression using grid Search \n",
    "def get_best_paramaters_random_search_logisitic_regression(training_features, training_target):\n",
    "    #Hyperparamter Grid \n",
    "    param_grid = [{\n",
    "        'C': [  0.01 , 0.1 , 1, 10],\n",
    "        'class_weight': ['balanced', None],\n",
    "        'penalty': ['l2'],\n",
    "        'solver': ['lbfgs'],\n",
    "        'max_iter': [1000]\n",
    "    }\n",
    "        , \n",
    "        {\n",
    "        'C': [ 0.01 , 0.1 , 1, 10 ],\n",
    "        'class_weight': ['balanced', None],\n",
    "        'penalty': ['l1'],\n",
    "        'solver': ['liblinear'],\n",
    "        'max_iter': [1000]\n",
    "    }]\n",
    "\n",
    "    regressor = LogisticRegression()\n",
    "    \n",
    "    #Find best Paramaters \n",
    "    grid_search = GridSearchCV(estimator=regressor, param_grid=param_grid, cv=10)\n",
    "    #Fit to best Paramaters \n",
    "    grid_search = grid_search.fit(training_features, training_target)\n",
    "    return grid_search\n",
    "\n"
   ]
  },
  {
   "cell_type": "code",
   "execution_count": null,
   "metadata": {},
   "outputs": [],
   "source": []
  }
 ],
 "metadata": {
  "kernelspec": {
   "display_name": "Python 3",
   "language": "python",
   "name": "python3"
  },
  "language_info": {
   "codemirror_mode": {
    "name": "ipython",
    "version": 3
   },
   "file_extension": ".py",
   "mimetype": "text/x-python",
   "name": "python",
   "nbconvert_exporter": "python",
   "pygments_lexer": "ipython3",
   "version": "3.5.2"
  },
  "widgets": {
   "state": {},
   "version": "1.1.2"
  }
 },
 "nbformat": 4,
 "nbformat_minor": 2
}
